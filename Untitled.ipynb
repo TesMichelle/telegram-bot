{
 "cells": [
  {
   "cell_type": "code",
   "execution_count": 1,
   "id": "04ae5680-ae26-4874-bd55-62bd30bcba28",
   "metadata": {},
   "outputs": [],
   "source": [
    "from requests import Request, Session\n",
    "from requests.exceptions import ConnectionError, Timeout, TooManyRedirects\n",
    "import json\n",
    "import os"
   ]
  },
  {
   "cell_type": "code",
   "execution_count": 2,
   "id": "7f02bcea-934c-4f4a-8cb9-18b55fae6e28",
   "metadata": {},
   "outputs": [
    {
     "name": "stdout",
     "output_type": "stream",
     "text": [
      "{'status': {'timestamp': '2025-04-25T12:58:56.405Z', 'error_code': 0, 'error_message': None, 'elapsed': 24, 'credit_count': 1, 'notice': None}, 'data': {'5426': {'id': 5426, 'name': 'Solana', 'symbol': 'SOL', 'slug': 'solana', 'num_market_pairs': 902, 'date_added': '2020-04-10T00:00:00.000Z', 'tags': [{'slug': 'pos', 'name': 'PoS', 'category': 'ALGORITHM'}, {'slug': 'platform', 'name': 'Platform', 'category': 'CATEGORY'}, {'slug': 'solana-ecosystem', 'name': 'Solana Ecosystem', 'category': 'PLATFORM'}, {'slug': 'cms-holdings-portfolio', 'name': 'CMS Holdings Portfolio', 'category': 'CATEGORY'}, {'slug': 'kenetic-capital-portfolio', 'name': 'Kenetic Capital Portfolio', 'category': 'CATEGORY'}, {'slug': 'alameda-research-portfolio', 'name': 'Alameda Research Portfolio', 'category': 'CATEGORY'}, {'slug': 'multicoin-capital-portfolio', 'name': 'Multicoin Capital Portfolio', 'category': 'CATEGORY'}, {'slug': 'okx-ventures-portfolio', 'name': 'OKX Ventures Portfolio', 'category': 'CATEGORY'}, {'slug': 'layer-1', 'name': 'Layer 1', 'category': 'CATEGORY'}, {'slug': 'ftx-bankruptcy-estate', 'name': 'FTX Bankruptcy Estate ', 'category': 'CATEGORY'}, {'slug': 'alleged-sec-securities', 'name': 'Alleged SEC Securities', 'category': 'CATEGORY'}, {'slug': 'cmc-crypto-awards-2024', 'name': 'CMC Crypto Awards 2024', 'category': 'CATEGORY'}, {'slug': 'made-in-america', 'name': 'Made in America', 'category': 'CATEGORY'}, {'slug': 'us-strategic-crypto-reserve', 'name': 'US Strategic Crypto Reserve', 'category': 'CATEGORY'}], 'max_supply': None, 'circulating_supply': 517436092.5859018, 'total_supply': 599321908.4512029, 'is_active': 1, 'infinite_supply': True, 'platform': None, 'cmc_rank': 6, 'is_fiat': 0, 'self_reported_circulating_supply': None, 'self_reported_market_cap': None, 'tvl_ratio': None, 'last_updated': '2025-04-25T12:57:00.000Z', 'quote': {'USD': {'price': 153.6588528742227, 'volume_24h': 4184069339.451087, 'volume_change_24h': -1.3431, 'percent_change_1h': -0.40365486, 'percent_change_24h': 3.55195369, 'percent_change_7d': 13.87760815, 'percent_change_30d': 5.96385903, 'percent_change_60d': -3.4953961, 'percent_change_90d': -38.36758022, 'market_cap': 79508636422.46976, 'market_cap_dominance': 2.6827, 'fully_diluted_market_cap': 92091116955, 'tvl': None, 'last_updated': '2025-04-25T12:57:00.000Z'}}}}}\n"
     ]
    }
   ],
   "source": [
    "url = 'https://pro-api.coinmarketcap.com/v2/cryptocurrency/quotes/latest'\n",
    "parameters = {\n",
    "  'id' : '5426'\n",
    "}\n",
    "headers = {\n",
    "  'Accepts': 'application/json',\n",
    "  'X-CMC_PRO_API_KEY': '354444a9-dc2f-489b-9776-68fc4b09eaea',\n",
    "}\n",
    "\n",
    "session = Session()\n",
    "session.headers.update(headers)\n",
    "\n",
    "try:\n",
    "  response = session.get(url, params=parameters)\n",
    "  data = json.loads(response.text)\n",
    "  print(data)\n",
    "except (ConnectionError, Timeout, TooManyRedirects) as e:\n",
    "  print(e)"
   ]
  },
  {
   "cell_type": "code",
   "execution_count": 3,
   "id": "5298a1b0-54c2-4401-ba03-4945a9e92316",
   "metadata": {},
   "outputs": [],
   "source": [
    "api_key = os.environ['BBKEY']\n",
    "api_secret = os.environ['BBSEC']"
   ]
  },
  {
   "cell_type": "code",
   "execution_count": 4,
   "id": "be43a98f-9acb-4304-898e-efdb4e9a1286",
   "metadata": {},
   "outputs": [],
   "source": [
    "from pybit.unified_trading import HTTP"
   ]
  },
  {
   "cell_type": "code",
   "execution_count": 5,
   "id": "bf827c9f-fece-4a84-9c55-e44d48ae8cff",
   "metadata": {},
   "outputs": [],
   "source": [
    "session = HTTP(\n",
    "    testnet=False,\n",
    "    api_key=api_key,\n",
    "    api_secret=api_secret,\n",
    ")"
   ]
  },
  {
   "cell_type": "code",
   "execution_count": 6,
   "id": "b420bfeb-d48f-443b-b6f1-87872e2bb79f",
   "metadata": {},
   "outputs": [
    {
     "name": "stdout",
     "output_type": "stream",
     "text": [
      "{'retCode': 0, 'retMsg': 'OK', 'result': {'timeSecond': '1745585944', 'timeNano': '1745585944475147993'}, 'retExtInfo': {}, 'time': 1745585944475}\n"
     ]
    }
   ],
   "source": [
    "print(session.get_server_time())"
   ]
  },
  {
   "cell_type": "code",
   "execution_count": 8,
   "id": "68087b8d-400b-4cd3-aa3e-aaea8a2f9f81",
   "metadata": {},
   "outputs": [
    {
     "name": "stdout",
     "output_type": "stream",
     "text": [
      "{'retCode': 0, 'retMsg': 'OK', 'result': {'category': 'inverse', 'list': [{'symbol': 'BTCUSD', 'lastPrice': '94700.00', 'indexPrice': '94750.89', 'markPrice': '94703.84', 'prevPrice24h': '92453.30', 'price24hPcnt': '0.0243', 'highPrice24h': '94792.80', 'lowPrice24h': '92448.00', 'prevPrice1h': '93798.00', 'openInterest': '1219903020', 'openInterestValue': '12881.24', 'turnover24h': '9152.6181', 'volume24h': '856439924.0000', 'fundingRate': '0.00005038', 'nextFundingTime': '1745596800000', 'predictedDeliveryPrice': '', 'basisRate': '', 'deliveryFeeRate': '', 'deliveryTime': '0', 'ask1Size': '25840', 'bid1Price': '94699.90', 'ask1Price': '94700.00', 'bid1Size': '111408', 'basis': '', 'preOpenPrice': '', 'preQty': '', 'curPreListingPhase': ''}]}, 'retExtInfo': {}, 'time': 1745583104192}\n"
     ]
    }
   ],
   "source": [
    "print(session.get_tickers(\n",
    "    category=\"inverse\",\n",
    "    symbol=\"BTCUSD\",\n",
    "))"
   ]
  },
  {
   "cell_type": "code",
   "execution_count": 19,
   "id": "3420b35b-36a0-4f44-a878-862919e4c499",
   "metadata": {},
   "outputs": [
    {
     "data": {
      "text/plain": [
       "datetime.date(2025, 4, 25)"
      ]
     },
     "execution_count": 19,
     "metadata": {},
     "output_type": "execute_result"
    }
   ],
   "source": [
    "dt.date()"
   ]
  },
  {
   "cell_type": "code",
   "execution_count": 7,
   "id": "0981599a-1b97-4750-a318-1e0cd1e457ad",
   "metadata": {},
   "outputs": [
    {
     "name": "stdout",
     "output_type": "stream",
     "text": [
      "2025-04-25 12:59:00\n"
     ]
    },
    {
     "data": {
      "text/plain": [
       "1745585940000"
      ]
     },
     "execution_count": 7,
     "metadata": {},
     "output_type": "execute_result"
    }
   ],
   "source": [
    "from datetime import timezone\n",
    "import datetime\n",
    "\n",
    "# Getting the current date and time\n",
    "dt = datetime.datetime.now(timezone.utc)\n",
    "dt = datetime.datetime(year=dt.year, month=dt.month, day=dt.day, hour=dt.hour, minute=dt.minute)\n",
    "print(dt)\n",
    "\n",
    "a = dt.replace(tzinfo=timezone.utc)\n",
    "b = a.timestamp()\n",
    "\n",
    "b = int(b)\n",
    "b *= 1000\n",
    "b"
   ]
  },
  {
   "cell_type": "code",
   "execution_count": 8,
   "id": "56c1346c-c13c-4cad-ba64-d6ef19672467",
   "metadata": {},
   "outputs": [
    {
     "data": {
      "text/plain": [
       "{'retCode': 0,\n",
       " 'retMsg': 'OK',\n",
       " 'result': {'category': 'spot',\n",
       "  'symbol': 'SOLUSDT',\n",
       "  'list': [['1745585940000',\n",
       "    '153.77',\n",
       "    '153.77',\n",
       "    '153.57',\n",
       "    '153.6',\n",
       "    '276.577',\n",
       "    '42503.21368']]},\n",
       " 'retExtInfo': {},\n",
       " 'time': 1745585949937}"
      ]
     },
     "execution_count": 8,
     "metadata": {},
     "output_type": "execute_result"
    }
   ],
   "source": [
    "r = session.get_kline(\n",
    "    category=\"spot\",\n",
    "    symbol=\"SOLUSDT\",\n",
    "    interval=1,\n",
    "    start=b,\n",
    "    end=b,\n",
    ")\n",
    "r"
   ]
  },
  {
   "cell_type": "code",
   "execution_count": 79,
   "id": "36889aaa-842d-4b40-b5f0-178416fc75eb",
   "metadata": {},
   "outputs": [
    {
     "data": {
      "text/plain": [
       "'154.15'"
      ]
     },
     "execution_count": 79,
     "metadata": {},
     "output_type": "execute_result"
    }
   ],
   "source": [
    "r['result']['list'][0][4]"
   ]
  },
  {
   "cell_type": "code",
   "execution_count": 49,
   "id": "45f0f5c3-cf59-4d5b-94b9-6f1aa7a1da08",
   "metadata": {},
   "outputs": [
    {
     "data": {
      "text/plain": [
       "2.9731947222222224"
      ]
     },
     "execution_count": 49,
     "metadata": {},
     "output_type": "execute_result"
    }
   ],
   "source": [
    "(b - r['time'])/1000/3600"
   ]
  },
  {
   "cell_type": "code",
   "execution_count": 88,
   "id": "588316d9-dccf-46df-9cad-0ad34101d641",
   "metadata": {},
   "outputs": [],
   "source": [
    "S0 = 10000000 \n",
    "n = 12*3\n",
    "p = 0.27"
   ]
  },
  {
   "cell_type": "code",
   "execution_count": 89,
   "id": "c6760b10-de5b-4570-9b33-8583ace5059a",
   "metadata": {},
   "outputs": [
    {
     "data": {
      "text/plain": [
       "183252.15108410042"
      ]
     },
     "execution_count": 89,
     "metadata": {},
     "output_type": "execute_result"
    }
   ],
   "source": [
    "# formula for x1\n",
    "x1 = S0 * p / 12 / ((1+p/12)**n - 1)\n",
    "x1"
   ]
  },
  {
   "cell_type": "code",
   "execution_count": 82,
   "id": "1334a068-4780-4497-b8c9-504e188dc745",
   "metadata": {},
   "outputs": [
    {
     "data": {
      "text/plain": [
       "(10000000.000000015, 4697077.439027594)"
      ]
     },
     "execution_count": 82,
     "metadata": {},
     "output_type": "execute_result"
    }
   ],
   "source": [
    "s = 0\n",
    "T = 0\n",
    "for i in range(n):\n",
    "    T += (S0 - s)*p/12\n",
    "    s += x1*(1+p/12)**i\n",
    "s, T"
   ]
  },
  {
   "cell_type": "code",
   "execution_count": 83,
   "id": "bc74e26c-9b63-43a2-a935-c33a9fbeb49a",
   "metadata": {},
   "outputs": [],
   "source": [
    "x = 0\n",
    "for k in range(1, n):\n",
    "    x += (1+p/12)**k - 1 "
   ]
  },
  {
   "cell_type": "code",
   "execution_count": 84,
   "id": "0e1b6672-07a2-4c16-acbb-c65142903caf",
   "metadata": {},
   "outputs": [
    {
     "data": {
      "text/plain": [
       "(18.569618642079064, 18.569618642078986)"
      ]
     },
     "execution_count": 84,
     "metadata": {},
     "output_type": "execute_result"
    }
   ],
   "source": [
    "x, (12/p*(1+p/12)*((1+p/12)**(n-1)-1) - (n-1))"
   ]
  },
  {
   "cell_type": "code",
   "execution_count": 90,
   "id": "ab2ea131-4b08-48f8-93f2-5d46f56154a3",
   "metadata": {},
   "outputs": [
    {
     "data": {
      "text/plain": [
       "4697077.439027613"
      ]
     },
     "execution_count": 90,
     "metadata": {},
     "output_type": "execute_result"
    }
   ],
   "source": [
    "# formula for T\n",
    "T = S0*n*p/12 - S0*(1+p/12)*((1+p/12)**(n-1)-1)/((1+p/12)**n-1) + (n-1)*S0*p/12/((1+p/12)**n - 1)\n",
    "T"
   ]
  },
  {
   "cell_type": "code",
   "execution_count": 91,
   "id": "46c61a20-eb5a-445e-8331-f2219e52b412",
   "metadata": {},
   "outputs": [
    {
     "data": {
      "text/plain": [
       "4162500.0"
      ]
     },
     "execution_count": 91,
     "metadata": {},
     "output_type": "execute_result"
    }
   ],
   "source": [
    "S0*p/12*(n/2+1/2)"
   ]
  },
  {
   "cell_type": "code",
   "execution_count": null,
   "id": "1ad56b5c-7a69-41ba-9089-9768161a0751",
   "metadata": {},
   "outputs": [],
   "source": []
  }
 ],
 "metadata": {
  "kernelspec": {
   "display_name": "Python 3 (ipykernel)",
   "language": "python",
   "name": "python3"
  },
  "language_info": {
   "codemirror_mode": {
    "name": "ipython",
    "version": 3
   },
   "file_extension": ".py",
   "mimetype": "text/x-python",
   "name": "python",
   "nbconvert_exporter": "python",
   "pygments_lexer": "ipython3",
   "version": "3.12.7"
  }
 },
 "nbformat": 4,
 "nbformat_minor": 5
}
